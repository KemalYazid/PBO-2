{
  "nbformat": 4,
  "nbformat_minor": 0,
  "metadata": {
    "colab": {
      "provenance": [],
      "authorship_tag": "ABX9TyNC+AR+6z0xFTj9Ts7L4dKu",
      "include_colab_link": true
    },
    "kernelspec": {
      "name": "python3",
      "display_name": "Python 3"
    },
    "language_info": {
      "name": "python"
    }
  },
  "cells": [
    {
      "cell_type": "markdown",
      "metadata": {
        "id": "view-in-github",
        "colab_type": "text"
      },
      "source": [
        "<a href=\"https://colab.research.google.com/github/KemalYazid/PBO-2/blob/main/class3.ipynb\" target=\"_parent\"><img src=\"https://colab.research.google.com/assets/colab-badge.svg\" alt=\"Open In Colab\"/></a>"
      ]
    },
    {
      "cell_type": "markdown",
      "source": [
        "Tanaman"
      ],
      "metadata": {
        "id": "pIKjCJjt1jEY"
      }
    },
    {
      "cell_type": "code",
      "source": [
        "class Tanaman:\n",
        "    def __init__(self, nama, jenis):\n",
        "        self.nama = nama\n",
        "        self.jenis = jenis\n",
        "\n",
        "    def tumbuh(self):\n",
        "        print(f\"Tanaman {self.nama} yang merupakan jenis {self.jenis} sedang tumbuh dengan baik.\")\n",
        "\n",
        "mangga = Tanaman(\"Mangga\", \"Pohon Buah\")\n",
        "mangga.tumbuh()\n"
      ],
      "metadata": {
        "colab": {
          "base_uri": "https://localhost:8080/"
        },
        "id": "A_YUMl531lLg",
        "outputId": "0c88ff07-8b47-4eca-dca2-cb9671c62b29"
      },
      "execution_count": 3,
      "outputs": [
        {
          "output_type": "stream",
          "name": "stdout",
          "text": [
            "Tanaman Mangga yang merupakan jenis Pohon Buah sedang tumbuh dengan baik.\n"
          ]
        }
      ]
    }
  ]
}