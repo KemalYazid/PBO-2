{
  "nbformat": 4,
  "nbformat_minor": 0,
  "metadata": {
    "colab": {
      "provenance": [],
      "authorship_tag": "ABX9TyOwcXCTpB2dtR55xnFs3XNF",
      "include_colab_link": true
    },
    "kernelspec": {
      "name": "python3",
      "display_name": "Python 3"
    },
    "language_info": {
      "name": "python"
    }
  },
  "cells": [
    {
      "cell_type": "markdown",
      "metadata": {
        "id": "view-in-github",
        "colab_type": "text"
      },
      "source": [
        "<a href=\"https://colab.research.google.com/github/KemalYazid/PBO-2/blob/main/class2.ipynb\" target=\"_parent\"><img src=\"https://colab.research.google.com/assets/colab-badge.svg\" alt=\"Open In Colab\"/></a>"
      ]
    },
    {
      "cell_type": "markdown",
      "source": [
        "Pesawat"
      ],
      "metadata": {
        "id": "KW03Cec51-MU"
      }
    },
    {
      "cell_type": "code",
      "source": [
        "class Pesawat:\n",
        "    def __init__(self, maskapai, tujuan):\n",
        "        self.maskapai = maskapai\n",
        "        self.tujuan = tujuan\n",
        "\n",
        "    def terbang(self):\n",
        "        print(f\"Pesawat {self.maskapai} sedang terbang menuju {self.tujuan}.\")\n",
        "\n",
        "garuda = Pesawat(\"Garuda Indonesia\", \"Jakarta - Aceh\")\n",
        "garuda.terbang()\n"
      ],
      "metadata": {
        "colab": {
          "base_uri": "https://localhost:8080/"
        },
        "id": "TSrBN-du2AZv",
        "outputId": "e56217df-b840-4408-e693-07d36900e0ea"
      },
      "execution_count": 4,
      "outputs": [
        {
          "output_type": "stream",
          "name": "stdout",
          "text": [
            "Pesawat Garuda Indonesia sedang terbang menuju Jakarta - Aceh.\n"
          ]
        }
      ]
    }
  ]
}