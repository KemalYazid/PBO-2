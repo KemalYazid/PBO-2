{
  "nbformat": 4,
  "nbformat_minor": 0,
  "metadata": {
    "colab": {
      "provenance": [],
      "authorship_tag": "ABX9TyM42c3XMe8Cc4khFjU0MAYc",
      "include_colab_link": true
    },
    "kernelspec": {
      "name": "python3",
      "display_name": "Python 3"
    },
    "language_info": {
      "name": "python"
    }
  },
  "cells": [
    {
      "cell_type": "markdown",
      "metadata": {
        "id": "view-in-github",
        "colab_type": "text"
      },
      "source": [
        "<a href=\"https://colab.research.google.com/github/KemalYazid/PBO-2/blob/main/class1.ipynb\" target=\"_parent\"><img src=\"https://colab.research.google.com/assets/colab-badge.svg\" alt=\"Open In Colab\"/></a>"
      ]
    },
    {
      "cell_type": "markdown",
      "source": [
        "Hewan"
      ],
      "metadata": {
        "id": "o76NIKP30lKv"
      }
    },
    {
      "cell_type": "code",
      "source": [
        "class Hewan:\n",
        "    def __init__(self, nama, jenis):\n",
        "        self.nama = nama\n",
        "        self.jenis = jenis\n",
        "\n",
        "    def bersuara(self):\n",
        "        print(f\"{self.nama}, yang merupakan seekor {self.jenis}, sedang bersuara.\")\n",
        "\n",
        "kucing = Hewan(\"Mo\", \"Kucing\")\n",
        "kucing.bersuara()\n"
      ],
      "metadata": {
        "colab": {
          "base_uri": "https://localhost:8080/"
        },
        "id": "nVI8j2w70nxI",
        "outputId": "dc6d7f61-3612-435c-9359-17ef4472fc05"
      },
      "execution_count": 1,
      "outputs": [
        {
          "output_type": "stream",
          "name": "stdout",
          "text": [
            "Mo, yang merupakan seekor Kucing, sedang bersuara.\n"
          ]
        }
      ]
    }
  ]
}