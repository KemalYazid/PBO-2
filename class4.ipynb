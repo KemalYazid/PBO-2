{
  "nbformat": 4,
  "nbformat_minor": 0,
  "metadata": {
    "colab": {
      "provenance": [],
      "authorship_tag": "ABX9TyNrbHhFyJXqgNtPM8VtGHC1",
      "include_colab_link": true
    },
    "kernelspec": {
      "name": "python3",
      "display_name": "Python 3"
    },
    "language_info": {
      "name": "python"
    }
  },
  "cells": [
    {
      "cell_type": "markdown",
      "metadata": {
        "id": "view-in-github",
        "colab_type": "text"
      },
      "source": [
        "<a href=\"https://colab.research.google.com/github/KemalYazid/PBO-2/blob/main/class4.ipynb\" target=\"_parent\"><img src=\"https://colab.research.google.com/assets/colab-badge.svg\" alt=\"Open In Colab\"/></a>"
      ]
    },
    {
      "cell_type": "markdown",
      "source": [
        "Sepeda"
      ],
      "metadata": {
        "id": "Cvbws80h3Qvq"
      }
    },
    {
      "cell_type": "code",
      "source": [
        "class Sepeda:\n",
        "    def __init__(self, merk, jenis):\n",
        "        self.merk = merk\n",
        "        self.jenis = jenis\n",
        "\n",
        "    def gowes(self):\n",
        "        print(f\"Sepeda {self.merk} jenis {self.jenis} sedang dikayuh.\")\n",
        "\n",
        "spd = Sepeda(\"Polygon\", \"Gunung\")\n",
        "spd.gowes()\n"
      ],
      "metadata": {
        "colab": {
          "base_uri": "https://localhost:8080/"
        },
        "id": "7EQwg8Hz3Rwg",
        "outputId": "05d05fda-21be-4164-9c95-57dac57aaf80"
      },
      "execution_count": 7,
      "outputs": [
        {
          "output_type": "stream",
          "name": "stdout",
          "text": [
            "Sepeda Polygon jenis Gunung sedang dikayuh.\n"
          ]
        }
      ]
    }
  ]
}