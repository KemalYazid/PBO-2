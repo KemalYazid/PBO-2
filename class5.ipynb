{
  "nbformat": 4,
  "nbformat_minor": 0,
  "metadata": {
    "colab": {
      "provenance": [],
      "authorship_tag": "ABX9TyMdEGjPwZs1vpWp/8ygVAc7",
      "include_colab_link": true
    },
    "kernelspec": {
      "name": "python3",
      "display_name": "Python 3"
    },
    "language_info": {
      "name": "python"
    }
  },
  "cells": [
    {
      "cell_type": "markdown",
      "metadata": {
        "id": "view-in-github",
        "colab_type": "text"
      },
      "source": [
        "<a href=\"https://colab.research.google.com/github/KemalYazid/PBO-2/blob/main/class5.ipynb\" target=\"_parent\"><img src=\"https://colab.research.google.com/assets/colab-badge.svg\" alt=\"Open In Colab\"/></a>"
      ]
    },
    {
      "cell_type": "markdown",
      "source": [
        "Kursi"
      ],
      "metadata": {
        "id": "eiDDlI1Y2tCo"
      }
    },
    {
      "cell_type": "code",
      "source": [
        "class Kursi:\n",
        "    def __init__(self, bahan, warna):\n",
        "        self.bahan = bahan\n",
        "        self.warna = warna\n",
        "\n",
        "    def duduk(self):\n",
        "        print(f\"Kursi berbahan {self.bahan} berwarna {self.warna} sedang diduduki.\")\n",
        "\n",
        "kursi_kayu = Kursi(\"Kayu Jati\", \"Coklat\")\n",
        "kursi_kayu.duduk()\n"
      ],
      "metadata": {
        "id": "vtkAs6qb2uIq",
        "outputId": "47ddef03-8216-4385-d25c-9b419e2a04bd",
        "colab": {
          "base_uri": "https://localhost:8080/"
        }
      },
      "execution_count": 6,
      "outputs": [
        {
          "output_type": "stream",
          "name": "stdout",
          "text": [
            "Kursi berbahan Kayu Jati berwarna Coklat sedang diduduki.\n"
          ]
        }
      ]
    }
  ]
}